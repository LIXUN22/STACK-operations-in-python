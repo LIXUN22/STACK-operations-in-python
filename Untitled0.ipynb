{
  "nbformat": 4,
  "nbformat_minor": 0,
  "metadata": {
    "colab": {
      "provenance": [],
      "authorship_tag": "ABX9TyOxGG00NXdqIVlds3l9Jkpo",
      "include_colab_link": true
    },
    "kernelspec": {
      "name": "python3",
      "display_name": "Python 3"
    },
    "language_info": {
      "name": "python"
    }
  },
  "cells": [
    {
      "cell_type": "markdown",
      "metadata": {
        "id": "view-in-github",
        "colab_type": "text"
      },
      "source": [
        "<a href=\"https://colab.research.google.com/github/LIXUN22/STACK-operations-in-python/blob/main/Untitled0.ipynb\" target=\"_parent\"><img src=\"https://colab.research.google.com/assets/colab-badge.svg\" alt=\"Open In Colab\"/></a>"
      ]
    },
    {
      "cell_type": "code",
      "execution_count": null,
      "metadata": {
        "id": "686VIsf6EKEu"
      },
      "outputs": [],
      "source": [
        "#stack functions push ,pop,is_empty,peek and size(stack)\n",
        "def push(stack,item):\n",
        "  stack.append(item)\n",
        "  print(\"pushed item\",item)\n",
        "\n",
        "def is_empty(stack):\n",
        "  return len(stack)==0\n",
        "\n",
        "def pop(stack):\n",
        "  if(is_empty(stack)):\n",
        "    return (\"stack is empty\")\n",
        "  return stack.pop()\n",
        "\n",
        "def peek(stack):\n",
        "  if(is_empty(stack)):\n",
        "    return (\"stack is empty\")\n",
        "  return stack[-1]\n",
        "\n",
        "def size(stack):\n",
        "  return len(stack)\n",
        "\n",
        "stack=[]\n",
        "push(stack,10)\n",
        "push(stack,20)\n",
        "push(stack,30)\n",
        "print(\"popped item\",pop(stack))\n",
        "print(\"peek element\",peek(stack))\n",
        "print(\"the size of the stack is \",size(stack))\n",
        "is_empty(stack)"
      ]
    },
    {
      "cell_type": "code",
      "source": [],
      "metadata": {
        "id": "XmRiK4N8ELLq"
      },
      "execution_count": null,
      "outputs": []
    }
  ]
}